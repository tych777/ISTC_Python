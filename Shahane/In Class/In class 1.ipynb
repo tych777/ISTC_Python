{
 "cells": [
  {
   "cell_type": "markdown",
   "metadata": {},
   "source": [
    "# Variables"
   ]
  },
  {
   "cell_type": "markdown",
   "metadata": {},
   "source": [
    "> Հետևյալ փոփոխականների ստեղծելու ու վերագրելու պրոցեսը կատարեք 2\n",
    "եղանակով՝ առանձին տողերով ու 1 տողով։"
   ]
  },
  {
   "cell_type": "markdown",
   "metadata": {},
   "source": [
    ">> 1) Ստեղծեք String տիպի course փոփոխականը և փոփոխականին վերագրեք\n",
    "“Intro to Python” արժեքը։<br>\n",
    "2) Ստեղծեք String տիպի student փոփոխականը և փոփոխականին վերագրեք\n",
    "Ձեր անունն ու ազգանունը “Your_name Your_last_name”։<br>\n",
    "3) Ստեղծեք String տիպի nickname փոփոխականը և փոփոխականին\n",
    "վերագրեք Ձեր կեղծանունը ( օրինակ՝ “Superwomen” :D )։<br>\n",
    "4) Ստեղծեք int տիպի grade փոփոխականը և փոփոխականին վերագրեք 1-\n",
    "100 ցանկացած արժեք։<br>\n",
    "5) Ստեղծեք boolean տիպի grade փոփոխականը և փոփոխականին վերագրեք\n",
    "True kam False արժեք (ոնց ճիշտ գտնեք ։D)։<br>\n",
    "6) Տպեք փոփոխականները դիմացը գրելով դրանց համապատասխան\n",
    "արժեքները, ամեն մեկը առանձին տողի վրա։"
   ]
  },
  {
   "cell_type": "code",
   "execution_count": 2,
   "metadata": {},
   "outputs": [],
   "source": [
    "course = \"Intro to Python\"\n",
    "student = \"Gor Grigoryan\"\n",
    "nickname = \"Tych777\"\n",
    "grade = 77\n",
    "pythonExpert = True\n",
    "course, student, nickname, grade, pythonExpert = [\"Intro to Python\", \"Gor Grigoryan\", \"Tych777\", 77, True ]"
   ]
  },
  {
   "cell_type": "code",
   "execution_count": 24,
   "metadata": {},
   "outputs": [
    {
     "name": "stdout",
     "output_type": "stream",
     "text": [
      "course: Intro to Python\n",
      "student: Gor Grigoryan\n",
      "nickname: Tych777\n",
      "grade: 77\n",
      "pythonExpert: True\n"
     ]
    }
   ],
   "source": [
    "#print(\"course: \" + course)\n",
    "#print(\"student: \" + student)\n",
    "#print(\"nickname: \" + nickname)\n",
    "#print(\"grade: \" , grade)\n",
    "#print(\"pythonExpert: \" , pythonExpert)\n",
    "print(\"course: {}\\nstudent: {}\\nnickname: {}\\ngrade: {}\\npythonExpert: {}\".format(course,student,nickname,grade,pythonExpert))"
   ]
  },
  {
   "cell_type": "markdown",
   "metadata": {},
   "source": [
    "# Operators"
   ]
  },
  {
   "cell_type": "markdown",
   "metadata": {},
   "source": [
    "> Տրված է ուղղանկյուն եռանկյուն ABC-ն։ AB = 3, AC = 4, գտեք ներքնաձիգ BC-ի\n",
    "արժեքը։ (AB^2 + AC^2 = BC^2)<br>\n",
    "1) Ստեղծեք int տիպի AB և AC փոփոխականները ու վերագրեք դրանց 3 և 4\n",
    "արժեքները համապատասխանաբար<br>\n",
    "2) Ստեղծեք int տիպի BC փոփոխականը ու փոփոխականին վերագրեք\n",
    "ներքնաձիգը գտնելու համար անհրաժեշտ գործողությունը։<br>\n",
    "3) Տպեք՝\n",
    "The hypotenuse of the triangle ABC = ներքնաձիգ BCի համար ձեր\n",
    "ստացած արժեքը"
   ]
  },
  {
   "cell_type": "code",
   "execution_count": 5,
   "metadata": {},
   "outputs": [
    {
     "name": "stdout",
     "output_type": "stream",
     "text": [
      "The hypotenuse of the triangle ABC = 5.0\n"
     ]
    }
   ],
   "source": [
    "AB, AC =[3,4]\n",
    "BC = (AB**2 + AC**2)**(1/2)\n",
    "print ('The hypotenuse of the triangle ABC =', BC )"
   ]
  },
  {
   "cell_type": "markdown",
   "metadata": {},
   "source": [
    "# Date and time"
   ]
  },
  {
   "cell_type": "markdown",
   "metadata": {},
   "source": [
    "> 1) Import արեք datetime, time, calendar գրադարանները<br>\n",
    "2) Տպեք առանձին տողերին՝<br>\n",
    "a) Այս պահի տարեթիվն ու ժամանակը (date and time)<br>\n",
    "b) Այս տարվա արժեքը<br>\n",
    "c) Այս ամսվա արժեքը<br>\n",
    "d) Շաբաթվա օրը<br>"
   ]
  },
  {
   "cell_type": "code",
   "execution_count": 28,
   "metadata": {},
   "outputs": [
    {
     "name": "stdout",
     "output_type": "stream",
     "text": [
      "Այս պահի տարեթիվն 2018-09-25\n",
      "ու ժամանակը : 00:56:34.914012\n",
      "Այս տարվա արժեքը : 2018\n",
      "Այս ամսվա արժեքը : 9\n",
      "Շաբաթվա օրը : 2\n"
     ]
    }
   ],
   "source": [
    "import time\n",
    "import datetime\n",
    "import calendar\n",
    "today = datetime.datetime.today()\n",
    "print (\"Այս պահի տարեթիվն {}\\nու ժամանակը : {}\\nԱյս տարվա արժեքը : {}\\nԱյս ամսվա արժեքը : {}\\nՇաբաթվա օրը : {}\".\n",
    "       format(today.date(), today.time(), today.year, today.month, today.isoweekday()))"
   ]
  },
  {
   "cell_type": "markdown",
   "metadata": {},
   "source": [
    "> 3) Ներկայիս ամսաթվից (current date) հանեք 5 օր ու տվեք ստացված\n",
    "ամսաթիվն ու ժամը (date and time)<br>\n",
    "4) Ներկայիս ժամանակին գումարեք 5 վայրկյան ու տպեք արդյունքը<br>\n",
    "5) Տպեք անցած երկուշաբթիի ամսաթիվը ու ներկայիս ժամանակը"
   ]
  },
  {
   "cell_type": "code",
   "execution_count": 54,
   "metadata": {},
   "outputs": [
    {
     "name": "stdout",
     "output_type": "stream",
     "text": [
      "Ներկայիս ամսաթիվ, ժամանակ :  2018-09-25 01:23:43.384408\n",
      "Ներկայիս ամսաթվից (current date) հանեք 5 օր ու տվեք ստացված ամսաթիվն ու ժամը :  2018-09-20 01:23:43.385408\n",
      "Ներկայիս ժամանակին գումարեք 5 վայրկյան :  01:23:48.385408\n",
      "անցած երկուշաբթիի ամսաթիվը : 2018-09-17\n",
      "ներկայիս ժամանակը: 01:23:43.384408\n"
     ]
    }
   ],
   "source": [
    "today = datetime.datetime.today()\n",
    "print (\"Ներկայիս ամսաթիվ, ժամանակ : \",today)\n",
    "print(\"Ներկայիս ամսաթվից (current date) հանեք 5 օր ու տվեք ստացված ամսաթիվն ու ժամը : \", (datetime.datetime.today() - \n",
    "                                                                                          datetime.timedelta(days = 5)))\n",
    "print(\"Ներկայիս ժամանակին գումարեք 5 վայրկյան : \", (datetime.datetime.today() + datetime.timedelta(seconds = 5)).time())\n",
    "xi = today.isoweekday()\n",
    "last_monday = today - datetime.timedelta(days = 6+xi)\n",
    "print(\"անցած երկուշաբթիի ամսաթիվը : {}\\nներկայիս ժամանակը: {}\".format(last_monday.date(), today.time()))\n"
   ]
  }
 ],
 "metadata": {
  "kernelspec": {
   "display_name": "Python 3",
   "language": "python",
   "name": "python3"
  },
  "language_info": {
   "codemirror_mode": {
    "name": "ipython",
    "version": 3
   },
   "file_extension": ".py",
   "mimetype": "text/x-python",
   "name": "python",
   "nbconvert_exporter": "python",
   "pygments_lexer": "ipython3",
   "version": "3.6.5"
  }
 },
 "nbformat": 4,
 "nbformat_minor": 2
}
