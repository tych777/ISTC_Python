{
 "cells": [
  {
   "cell_type": "markdown",
   "metadata": {},
   "source": [
    "# 1․ Print all odd numbers from 0 to 100 (use for/while loop and a conditional statement)"
   ]
  },
  {
   "cell_type": "code",
   "execution_count": 7,
   "metadata": {},
   "outputs": [
    {
     "name": "stdout",
     "output_type": "stream",
     "text": [
      "1, 3, 5, 7, 9, 11, 13, 15, 17, 19, 21, 23, 25, 27, 29, 31, 33, 35, 37, 39, 41, 43, 45, 47, 49, 51, 53, 55, 57, 59, 61, 63, 65, 67, 69, 71, 73, 75, 77, 79, 81, 83, 85, 87, 89, 91, 93, 95, 97, 99, "
     ]
    }
   ],
   "source": [
    "for i in range(1,101):\n",
    "    if i%2 == 1:\n",
    "        print (i, end = ', ')"
   ]
  },
  {
   "cell_type": "markdown",
   "metadata": {},
   "source": [
    "# 2․ Write a Python program that prints all the numbers from 0 to 6 except 2 and 4. (use continue)"
   ]
  },
  {
   "cell_type": "code",
   "execution_count": 6,
   "metadata": {},
   "outputs": [
    {
     "name": "stdout",
     "output_type": "stream",
     "text": [
      "0, 1, 3, 5, 6, "
     ]
    }
   ],
   "source": [
    "for i in range(0,7):\n",
    "   if i == 2 or i == 4:\n",
    "       continue\n",
    "   else: print(i, end = \", \")"
   ]
  },
  {
   "cell_type": "markdown",
   "metadata": {},
   "source": [
    "# 3. Iterate over numbers from 0 to 20, stop the loop if you reach a multiple of 3 which is also a multiple of 5."
   ]
  },
  {
   "cell_type": "code",
   "execution_count": 8,
   "metadata": {},
   "outputs": [
    {
     "name": "stdout",
     "output_type": "stream",
     "text": [
      "1, 2, 3, 4, 5, 6, 7, 8, 9, 10, 11, 12, 13, 14, 15, "
     ]
    }
   ],
   "source": [
    "for i in range(1,21):\n",
    "   print(i, end = \", \")\n",
    "   if i%3 == 0 and i%5 == 0:\n",
    "       break"
   ]
  },
  {
   "cell_type": "markdown",
   "metadata": {},
   "source": [
    "# 4․ Go over a 2D list list1 = [[5, 7, -7, ‘abc’], [2, 4, True, 3], [4, 6, 7, 7], [2, 4, 1, True]] with nested loops, break if the value is equal to 3."
   ]
  },
  {
   "cell_type": "code",
   "execution_count": 10,
   "metadata": {},
   "outputs": [
    {
     "name": "stdout",
     "output_type": "stream",
     "text": [
      "5, 7, -7, abc, 2, 4, True, "
     ]
    }
   ],
   "source": [
    "a = 0\n",
    "list1 = [[5, 7, -7, 'abc'], [2, 4, True, 3], [4, 6, 7, 7], [2, 4, 1, True]]\n",
    "for i in range(len(list1)):\n",
    "   if a == 1:\n",
    "       break\n",
    "   for j in range(len(list1[i])):\n",
    "       if list1[i][j] == 3:\n",
    "           a=1\n",
    "           break\n",
    "       print(list1[i][j], end = \", \")"
   ]
  },
  {
   "cell_type": "code",
   "execution_count": null,
   "metadata": {},
   "outputs": [],
   "source": []
  }
 ],
 "metadata": {
  "kernelspec": {
   "display_name": "Python 3",
   "language": "python",
   "name": "python3"
  },
  "language_info": {
   "codemirror_mode": {
    "name": "ipython",
    "version": 3
   },
   "file_extension": ".py",
   "mimetype": "text/x-python",
   "name": "python",
   "nbconvert_exporter": "python",
   "pygments_lexer": "ipython3",
   "version": "3.6.5"
  }
 },
 "nbformat": 4,
 "nbformat_minor": 2
}
