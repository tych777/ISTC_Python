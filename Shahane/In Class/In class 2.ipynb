{
 "cells": [
  {
   "cell_type": "markdown",
   "metadata": {},
   "source": [
    "# Lists:"
   ]
  },
  {
   "cell_type": "markdown",
   "metadata": {},
   "source": [
    "> 1) Ստեղծեք a list-ը, որը պարունակում է հետևյալ արժեքները՝ 1, 4, 5, 7, 8, -2, 0, -1<br>\n",
    "2) Տպեք list-ի 3րդ ու 5րդ անդամների արժեքները<br>\n",
    "3) Սորտավորեք a list-ը նվազման կարգով և նոր ստացած սորտավորված list-ը\n",
    "վերագրեք a_sorted փոփոխականին (Այս գործողության ընթացքում չպետք է փոխվի\n",
    "սկզբնական a list-ը)<br>\n",
    "4) Իրար տակ տպեք a_sorted list-ի 1...3 և 2...6 անդամները պարունակող sublist-երը<br>\n",
    "5) Տպեք a_sorted list-ի 5 արժեքով անդամի index-ը՝ օգտագործելով համապատասխան\n",
    "ֆունկցիա։<br>\n",
    "6) a_sorted list-ից ջնջեք 2 և 3 index-ով անդամները<br>\n",
    "7) Տպեք a_sorted list-ը<br>\n",
    "8) Ստեղծեք b list-ը, որը պարունակում է հետևյալ արժեքները՝ “grapes”, “Potatoes”,\n",
    "“tomatoes”, “Orange”, “Lemon”, “Broccoli”, “Carrot”, “Sausages”<br>\n",
    "9) Սորտավորեք b list-ը աճման կարգով և նոր ստացած սորտավորված list-ը\n",
    "վերագրեք b_sorted փոփոխականին (Այս գործողության ընթացքում չպետք է փոխվի\n",
    "սկզբնական b list-ը)<br>\n",
    "10) Ստեղծեք նոր c list, որի առաջին անդամներն են a list-ի 1...3 անդամները, որոնց\n",
    "հաջորդում են b list-ի 4...6 անդամները<br>\n",
    "11) Տպեք ստացված с list-ը"
   ]
  },
  {
   "cell_type": "code",
   "execution_count": 26,
   "metadata": {},
   "outputs": [
    {
     "name": "stdout",
     "output_type": "stream",
     "text": [
      "a :  [1, 4, 5, 7, 8, -2, 0, -1]\n",
      "Տպեք list-ի 3րդ անդամի արժեքը: 5\n",
      "Տպեք list-ի 5րդ անդամի արժեքը: 8\n",
      "a_sorted :  [8, 7, 5, 4, 1, 0, -1, -2]\n",
      "a_sorted list-ի 1...3 անդամները պարունակող sublist : [8, 7, 5]\n",
      "a_sorted list-ի 2...6 անդամները պարունակող sublist : [7, 5, 4, 1, 0]\n",
      "a_sorted list-ի 5 արժեքով անդամի index-ը : 2\n",
      "a_sorted list-ից ջնջեք 2 և 3 index-ով անդամները :  [8, 7, 1, 0, -1, -2]\n",
      "b :  ['grapes', 'Potatoes', 'tomatoes', 'Orange', 'Lemon', 'Broccoli', 'Carrot', 'Sausages']\n",
      "b_sorted :  ['Broccoli', 'Carrot', 'Lemon', 'Orange', 'Potatoes', 'Sausages', 'grapes', 'tomatoes']\n",
      "c :  [1, 4, 5, 'Orange', 'Lemon', 'Broccoli']\n"
     ]
    }
   ],
   "source": [
    "a = [1,4,5,7,8,-2,0,-1]\n",
    "print(\"a : \", a)\n",
    "print('Տպեք list-ի 3րդ անդամի արժեքը: %s\\nՏպեք list-ի 5րդ անդամի արժեքը: %s' % (a[2],a[4]))\n",
    "a_sorted = sorted(a, reverse = True)\n",
    "print(\"a_sorted : \", a_sorted)\n",
    "print (\"a_sorted list-ի 1...3 անդամները պարունակող sublist : %s\\na_sorted list-ի 2...6 անդամները պարունակող sublist : %s\"\n",
    "% (a_sorted[0:3],a_sorted[1:6]))\n",
    "print(\"a_sorted list-ի 5 արժեքով անդամի index-ը : %s\" % a_sorted.index(5) )\n",
    "del a_sorted[2:4]\n",
    "print(\"a_sorted list-ից ջնջեք 2 և 3 index-ով անդամները : \", a_sorted)\n",
    "b = [\"grapes\", \"Potatoes\", \"tomatoes\", \"Orange\", \"Lemon\", \"Broccoli\", \"Carrot\", \"Sausages\"]\n",
    "print(\"b : \", b)\n",
    "b_sorted = sorted(b, reverse = False)\n",
    "print(\"b_sorted : \", b_sorted)\n",
    "c = a[0:3] + b[3:6]\n",
    "print(\"c : \", c)"
   ]
  },
  {
   "cell_type": "markdown",
   "metadata": {},
   "source": [
    "# Sets:"
   ]
  },
  {
   "cell_type": "markdown",
   "metadata": {},
   "source": [
    "> 1) Ստեղծեք a1 list-ը, որը պարունակում է հետևյալ արժեքները՝ “Cookies”, “Chocolate”,\n",
    "8, True, -3, -5, ”Chocolate”, 8, False, 8<br>\n",
    "2) Ստեղծեք b1 list-ը, որը պարունակում է հետևյալ արժեքները՝ 8, True, 10, 14,\n",
    "“Chocolate”, “Milk”, ”Jelly”, True, False, True<br>\n",
    "3) Դարձրեք (convert) a1 list-ը set ու պահեք set_a փոփոխականի մեջ<br>\n",
    "4) Դարձրեք (convert) b1 list-ը set ու պահեք set_b փոփոխականի մեջ<br>\n",
    "5) Գտեք set_a -ի ու set_b -ի միավորումը (union) ու պահեք union_ab փոփոխականի մեջ<br>\n",
    "6) Գտեք set_a -ի ու set_b -ի հատումը (intersection) ու պահեք intersection_ab\n",
    "փոփոխականի մեջ<br>\n",
    "7) Ավելացրեք “Kit-Kat” ու “Oreo” արժեքները union_ab set-ին ու տպեք union_ab set-ը<br>\n",
    "8) Կիրառեք or գործողությունը union_ab ու intersection_ab set-երի միջև ու արդյունքը\n",
    "պահեք new_set փոփոխականի մեջ, այնուհետև տպեք new_set փոփոխականը<br>\n",
    "9) Ստուգեք, թե արդյոք new_set set-ը պարունակում է “Chocolate” արժեքը<br>\n",
    "10 Ջնջեք “Oreo” արժեքը new_set set-ից, այնուհետև տպեք new_set set-ը"
   ]
  },
  {
   "cell_type": "code",
   "execution_count": 44,
   "metadata": {},
   "outputs": [
    {
     "name": "stdout",
     "output_type": "stream",
     "text": [
      "union_ab :  {False, True, 'Kit-Kat', 'Oreo', 8, 10, 'Cookies', 14, 'Milk', 'Chocolate', -5, 'Jelly', -3}\n",
      "new_set  :  {False, True, 'Kit-Kat', 'Oreo', 8, 10, 'Cookies', 14, 'Milk', 'Chocolate', -5, 'Jelly', -3}\n",
      "Ջնջեք “Oreo” արժեքը new_set set-ից  :  {False, True, 'Kit-Kat', 8, 10, 'Cookies', 14, 'Milk', 'Chocolate', -5, 'Jelly', -3}\n"
     ]
    }
   ],
   "source": [
    "a1 = [\"Cookies\", \"Chocolate\", 8, True, -3, -5, \"Chocolate\", 8, False, 8]\n",
    "b1 =[8, True, 10, 14, \"Chocolate\", \"Milk\", \"Jelly\", True, False, True]\n",
    "set_a = set(a1)\n",
    "set_b = set(b1)\n",
    "union_ab = set_a.union(set_b)\n",
    "intersection_ab = set_a.intersection(set_b)\n",
    "union_ab.update([\"Kit-Kat\", \"Oreo\"])\n",
    "print(\"union_ab : \", union_ab)\n",
    "new_set = union_ab or intersection_ab\n",
    "print(\"new_set  : \", new_set)\n",
    "\"Chocolate\" in new_set\n",
    "new_set.discard(\"Oreo\")\n",
    "print(\"Ջնջեք “Oreo” արժեքը new_set set-ից  : \", new_set)"
   ]
  },
  {
   "cell_type": "markdown",
   "metadata": {},
   "source": [
    "# Tuples:"
   ]
  },
  {
   "cell_type": "markdown",
   "metadata": {},
   "source": [
    "> 1) Ստեղծեք t1 tuple-ը, որը պարունակում է հետևյալ արժեքները՝ 1, True, “a”, -2,\n",
    "“Anna”<br>\n",
    "2) t1 tuple-ից ջնջեք “True” արժեքը, այնուհետև տպեք t1 tuple-ը<br>\n",
    "3) Ստեղծեք t2 tuple-ը, որը պարունակում է հետևյալ արժեքները՝ 1, 2, 3, 4, 5<br>\n",
    "4) Ստեղծեք t3 tuple-ը, որի առաջին 2 անդամները t1 tuple առաջին 2 անդամներն են,\n",
    "իսկ հաջորդ 3 անդամները t2 tuple-ի առաջին 3 անդամները<br>\n",
    "5) Տպեք t3 tuple-ի 2 index-ով անդամը<br>\n",
    "6) Ստեղծեք t4 tuple-ների list-ը հետևյալ արժեքով՝ [(1,3,5), (8,9), (“Anna”, “Bob”,\n",
    "“Alice”)] ։ Տպեք t4 -ի առաջին անդամի երկրորդ անդամը<br>"
   ]
  },
  {
   "cell_type": "code",
   "execution_count": 50,
   "metadata": {},
   "outputs": [
    {
     "name": "stdout",
     "output_type": "stream",
     "text": [
      "Cannot delete, edit or alter elements of a tuple in any way :  (1, True, 'a', -2, 'Anna')\n",
      "t3 tuple-ի 2 index-ով անդամը :  1\n",
      "t4 -ի առաջին անդամի երկրորդ անդամը :  3\n"
     ]
    }
   ],
   "source": [
    "t1 = 1, True, \"a\", -2, \"Anna\"\n",
    "print ('Cannot delete, edit or alter elements of a tuple in any way : ', t1)\n",
    "t2 = 1, 2, 3, 4, 5\n",
    "t3 = t1[0:2] + t2[0:3]\n",
    "print(\"t3 tuple-ի 2 index-ով անդամը : \", t3[2])\n",
    "t4 = [(1,3,5), (8,9), (\"Anna\", \"Bob\", \"Alice\")]\n",
    "print (\"t4 -ի առաջին անդամի երկրորդ անդամը : \", t4[0][1] )"
   ]
  }
 ],
 "metadata": {
  "kernelspec": {
   "display_name": "Python 3",
   "language": "python",
   "name": "python3"
  },
  "language_info": {
   "codemirror_mode": {
    "name": "ipython",
    "version": 3
   },
   "file_extension": ".py",
   "mimetype": "text/x-python",
   "name": "python",
   "nbconvert_exporter": "python",
   "pygments_lexer": "ipython3",
   "version": "3.6.5"
  }
 },
 "nbformat": 4,
 "nbformat_minor": 2
}
