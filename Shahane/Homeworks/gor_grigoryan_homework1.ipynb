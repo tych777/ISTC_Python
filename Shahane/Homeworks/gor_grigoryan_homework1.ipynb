{
 "cells": [
  {
   "cell_type": "markdown",
   "metadata": {},
   "source": [
    "# Variables\n",
    "\n",
    "\n",
    "\n"
   ]
  },
  {
   "cell_type": "markdown",
   "metadata": {},
   "source": [
    "> ## Exercise1. <br>\n",
    "Հետևյալ փոփոխականների ստեղծելու ու վերագրելու պրոցեսը կատարեք 2 եղանակով՝ առանձին տողերով ու 1 տողով։ Օրինակ՝ a=1 a, b = (1, “Shahane”) b=”Shahane” … VS (Սա ուղղակի օրինակ է, դուք նույն տրամաբանությամբ պետք է գրեք խնդրում տրված փոփոխականների համար։) "
   ]
  },
  {
   "cell_type": "markdown",
   "metadata": {},
   "source": [
    ">> 1) Ստեղծեք String տիպի project փոփոխականը և փոփոխականին վերագրեք\n",
    "“cake” արժեքը։"
   ]
  },
  {
   "cell_type": "code",
   "execution_count": 5,
   "metadata": {},
   "outputs": [],
   "source": [
    "project = \"cake\""
   ]
  },
  {
   "cell_type": "markdown",
   "metadata": {},
   "source": [
    ">> 2) Ստեղծեք int տիպի difficulty փոփոխականը և փոփոխականին վերագրեք 1-5\n",
    "ցանկացած արժեք։"
   ]
  },
  {
   "cell_type": "code",
   "execution_count": 3,
   "metadata": {},
   "outputs": [],
   "source": [
    "difficulty = int(2)\n",
    "difficulty = 2"
   ]
  },
  {
   "cell_type": "markdown",
   "metadata": {},
   "source": [
    ">> 3) Ստեղծեք ingredients փոփոխականը և փոփոխականին վերագրեք [“flour”,\n",
    "“butter”, “sugar”, “eggs”, “cocoa powder”, “baking powder”] արժեքը։"
   ]
  },
  {
   "cell_type": "code",
   "execution_count": 24,
   "metadata": {},
   "outputs": [],
   "source": [
    "ingredients = [\"flour\", \"butter\", \"sugar\", \"eggs\", \"cocoa powder\", \"baking powder\"]"
   ]
  },
  {
   "cell_type": "code",
   "execution_count": 25,
   "metadata": {},
   "outputs": [],
   "source": [
    "project, difficulty, ingredients = \"cake\", 2, [\"flour\", \"butter\", \"sugar\", \"eggs\", \"cocoa powder\", \"baking powder\"]"
   ]
  },
  {
   "cell_type": "markdown",
   "metadata": {},
   "source": [
    ">> 4) Ստուգեք արդյոք ingredients -ը պարունակում է “apples” և տպեք արդյունքը։"
   ]
  },
  {
   "cell_type": "code",
   "execution_count": 28,
   "metadata": {},
   "outputs": [
    {
     "name": "stdout",
     "output_type": "stream",
     "text": [
      "արդյոք ingredients -ը պարունակում է \"apples\" : False\n"
     ]
    }
   ],
   "source": [
    "print ('արդյոք ingredients -ը պարունակում է \"apples\" :', \"apples\" in ingredients)"
   ]
  },
  {
   "cell_type": "markdown",
   "metadata": {},
   "source": [
    ">> 5) Ստուգեք արդյոք ingredients -ը պարունակում է “butter” և տպեք արդյունքը։"
   ]
  },
  {
   "cell_type": "code",
   "execution_count": 29,
   "metadata": {},
   "outputs": [
    {
     "name": "stdout",
     "output_type": "stream",
     "text": [
      "արդյոք ingredients -ը պարունակում է \"butter\" : True\n"
     ]
    }
   ],
   "source": [
    "print ('արդյոք ingredients -ը պարունակում է \"butter\" :', \"butter\" in ingredients)"
   ]
  },
  {
   "cell_type": "markdown",
   "metadata": {},
   "source": [
    ">> 6) Ստուգեք արդյոք ingredients -ը պարունակում է “eggs” կամ “margarine” և\n",
    "տպեք արդյունքը։"
   ]
  },
  {
   "cell_type": "code",
   "execution_count": 30,
   "metadata": {},
   "outputs": [
    {
     "name": "stdout",
     "output_type": "stream",
     "text": [
      "արդյոք ingredients -ը պարունակում է \"eggs\" կամ \"margarine\" : eggs\n"
     ]
    }
   ],
   "source": [
    "print ('արդյոք ingredients -ը պարունակում է \"eggs\" կամ \"margarine\" :', \"eggs\" or \"margarine\" in ingredients)"
   ]
  },
  {
   "cell_type": "markdown",
   "metadata": {},
   "source": [
    ">> 7) Ստուգեք արդյոք ingredients -ը պարունակում է “eggs” և “margarine” և\n",
    "տպեք արդյունքը։"
   ]
  },
  {
   "cell_type": "code",
   "execution_count": 31,
   "metadata": {},
   "outputs": [
    {
     "name": "stdout",
     "output_type": "stream",
     "text": [
      "արդյոք ingredients -ը պարունակում է \"eggs\" կամ \"margarine\" : False\n"
     ]
    }
   ],
   "source": [
    "print ('արդյոք ingredients -ը պարունակում է \"eggs\" կամ \"margarine\" :', \"eggs\" and \"margarine\" in ingredients)"
   ]
  },
  {
   "cell_type": "markdown",
   "metadata": {},
   "source": [
    ">> 8) Ստեղծեք առանձին փոփոխականներ բոլոր մթերքների համար (flour, butter,\n",
    "sugar, eggs, cocoa_powder and baking_powder) ու վերագրեք դրանց հետևյալ\n",
    "արժեքները տրված հերթականությամբ՝ 175, 175, 100g, 2, 1ts, 0.5։ (Այսինքն\n",
    "flour = 175, butter = 175 և այլն)\n",
    "a) Տպեք ստեղծած փոփոխականների տիպերը։\n"
   ]
  },
  {
   "cell_type": "code",
   "execution_count": 102,
   "metadata": {},
   "outputs": [
    {
     "name": "stdout",
     "output_type": "stream",
     "text": [
      "Տպեք ստեղծած փոփոխականների տիպերը \n",
      "flour: int\n",
      "butter: int\n",
      "sugar: int\n",
      "eggs: int\n",
      "cocoa_powder: int\n",
      "baking_powder: float\n"
     ]
    }
   ],
   "source": [
    "flour = 175\n",
    "butter = 175\n",
    "sugar = 100\n",
    "eggs = 2\n",
    "cocoa_powder = 1\n",
    "baking_powder = 0.5\n",
    "flour, butter, sugar, eggs, cocoa_powder, baking_powder = 175,175,100,2,1,0.5\n",
    "print(\"Տպեք ստեղծած փոփոխականների տիպերը \\nflour: {}\\nbutter: {}\\nsugar: {}\\neggs: {}\\ncocoa_powder: {}\\nbaking_powder: {}\"\n",
    "      .format (type(flour).__name__, type(butter).__name__, type(sugar).__name__, type(eggs).__name__, type(cocoa_powder)\n",
    "      .__name__, type(baking_powder).__name__))\n",
    "\n",
    "    "
   ]
  },
  {
   "cell_type": "markdown",
   "metadata": {},
   "source": [
    ">> 9) Տպեք բոլոր մթերքներն ու դրանց քանակները հետևյալ ֆորմատով՝\n",
    "Apples - 100g\n",
    "Grapes - 200g\n",
    "այլն"
   ]
  },
  {
   "cell_type": "code",
   "execution_count": 104,
   "metadata": {},
   "outputs": [
    {
     "name": "stdout",
     "output_type": "stream",
     "text": [
      "բոլոր մթերքներն ու դրանց քանակները \n",
      "flour: 175\n",
      "butter: 175\n",
      "sugar: 100\n",
      "eggs: 2\n",
      "cocoa_powder: 1\n",
      "baking_powder: 0.5\n"
     ]
    }
   ],
   "source": [
    "print(\"բոլոր մթերքներն ու դրանց քանակները \\nflour: {}\\nbutter: {}\\nsugar: {}\\neggs: {}\\ncocoa_powder: {}\\nbaking_powder: {}\".\n",
    "      format(flour, butter, sugar, eggs, cocoa_powder, baking_powder))"
   ]
  },
  {
   "cell_type": "markdown",
   "metadata": {},
   "source": [
    "# Operators"
   ]
  },
  {
   "cell_type": "markdown",
   "metadata": {},
   "source": [
    "> # Exercise2."
   ]
  },
  {
   "cell_type": "markdown",
   "metadata": {},
   "source": [
    ">> Հաշվեք տրված արտահայտությունների արժեքները Python-ով, a = 15, b = 8, c\n",
    "= 2` <br>\n",
    "$ 5a^2 $ - ab + (a%2) - $ a/5 $ <br>\n",
    "$ b^3 $ + 3ab - 10c\n",
    "\n"
   ]
  },
  {
   "cell_type": "code",
   "execution_count": 41,
   "metadata": {},
   "outputs": [
    {
     "name": "stdout",
     "output_type": "stream",
     "text": [
      "1003.0\n",
      "852\n"
     ]
    }
   ],
   "source": [
    "a, b, c = 15, 8, 2\n",
    "print (5*(a**2)-a*b+a%2-a/5) \n",
    "print (b**3+3*a*b-10*c)"
   ]
  },
  {
   "cell_type": "markdown",
   "metadata": {},
   "source": [
    "# Date and time"
   ]
  },
  {
   "cell_type": "markdown",
   "metadata": {},
   "source": [
    "> # Exercise4."
   ]
  },
  {
   "cell_type": "markdown",
   "metadata": {},
   "source": [
    ">> 1) Import արեք datetime, time, calendar գրադարանները"
   ]
  },
  {
   "cell_type": "code",
   "execution_count": 44,
   "metadata": {},
   "outputs": [],
   "source": [
    "import time\n",
    "import calendar\n",
    "import datetime"
   ]
  },
  {
   "cell_type": "markdown",
   "metadata": {},
   "source": [
    ">> 2) Տպեք առանձին տողերին՝:\n"
   ]
  },
  {
   "cell_type": "markdown",
   "metadata": {},
   "source": [
    ">>> a) Ձեր ծննդյան ամսաթիվը"
   ]
  },
  {
   "cell_type": "code",
   "execution_count": 105,
   "metadata": {},
   "outputs": [
    {
     "name": "stdout",
     "output_type": "stream",
     "text": [
      "ծննդյան ամսաթիվը: 1983-01-08\n"
     ]
    }
   ],
   "source": [
    "mybirthday = datetime.date(1983, 1, 8)\n",
    "print(\"ծննդյան ամսաթիվը: {}\".format(mybirthday))"
   ]
  },
  {
   "cell_type": "markdown",
   "metadata": {},
   "source": [
    ">>> b) Տպեք Ձեր ծննդյան տարին կիրառելով համապատասխան ֆունկցիա\n",
    "ծննդյան ամսաթվի վրա"
   ]
  },
  {
   "cell_type": "code",
   "execution_count": 106,
   "metadata": {},
   "outputs": [
    {
     "name": "stdout",
     "output_type": "stream",
     "text": [
      "ծննդյան տարին: 1983\n"
     ]
    }
   ],
   "source": [
    "print(\"ծննդյան տարին: {}\".format(mybirthday.year))"
   ]
  },
  {
   "cell_type": "markdown",
   "metadata": {},
   "source": [
    ">>> c) Տպեք Ձեր ծննդյան ամիսը կիրառելով համապատասխան ֆունկցիա\n",
    "ծննդյան ամսաթվի վրա"
   ]
  },
  {
   "cell_type": "code",
   "execution_count": 107,
   "metadata": {},
   "outputs": [
    {
     "name": "stdout",
     "output_type": "stream",
     "text": [
      "ծննդյան ամիսը: 1\n"
     ]
    }
   ],
   "source": [
    "print(\"ծննդյան ամիսը: {}\".format(mybirthday.month))"
   ]
  },
  {
   "cell_type": "markdown",
   "metadata": {},
   "source": [
    ">>> d) Տպեք Ձեր ծննդյան օրը կիրառելով համապատասխան ֆունկցիա\n",
    "ծննդյան ամսաթվի վրա"
   ]
  },
  {
   "cell_type": "code",
   "execution_count": 108,
   "metadata": {},
   "outputs": [
    {
     "name": "stdout",
     "output_type": "stream",
     "text": [
      "ծննդյան օրը: 8\n"
     ]
    }
   ],
   "source": [
    "print(\"ծննդյան օրը: {}\".format(mybirthday.day))"
   ]
  },
  {
   "cell_type": "markdown",
   "metadata": {},
   "source": [
    ">>> e) Գտեք ու տպեք ձեր ծննդյան օրվան համապատասխան շաբաթվա օրը"
   ]
  },
  {
   "cell_type": "code",
   "execution_count": 109,
   "metadata": {},
   "outputs": [
    {
     "name": "stdout",
     "output_type": "stream",
     "text": [
      "ծննդյան օրվան համապատասխան շաբաթվա օրը: 6\n"
     ]
    }
   ],
   "source": [
    "print(\"ծննդյան օրվան համապատասխան շաբաթվա օրը: {}\".format(mybirthday.isoweekday()))"
   ]
  },
  {
   "cell_type": "markdown",
   "metadata": {},
   "source": [
    ">>> f) Գտեք ու տպեք թե քանի օր է մնացել մինչ Ձեր մյուս ծնունդը"
   ]
  },
  {
   "cell_type": "code",
   "execution_count": 124,
   "metadata": {},
   "outputs": [
    {
     "data": {
      "text/plain": [
       "106"
      ]
     },
     "execution_count": 124,
     "metadata": {},
     "output_type": "execute_result"
    }
   ],
   "source": [
    "(mynextbirthday-today).days"
   ]
  },
  {
   "cell_type": "code",
   "execution_count": 125,
   "metadata": {},
   "outputs": [
    {
     "name": "stdout",
     "output_type": "stream",
     "text": [
      "քանի օր է մնացել մինչ Ձեր մյուս ծնունդը: 106\n",
      "\n"
     ]
    }
   ],
   "source": [
    "mynextbirthday =  datetime.date(2019, 1, 8)\n",
    "today =  datetime.date.today()\n",
    "print(\"քանի օր է մնացել մինչ Ձեր մյուս ծնունդը: {}\\n\".format((mynextbirthday-today).days))"
   ]
  },
  {
   "cell_type": "markdown",
   "metadata": {},
   "source": [
    ">> 3) Տպեք 2017թ․-ի Մայիսի օրացույցը"
   ]
  },
  {
   "cell_type": "code",
   "execution_count": 111,
   "metadata": {},
   "outputs": [
    {
     "name": "stdout",
     "output_type": "stream",
     "text": [
      "2017թ․-ի Մայիսի օրացույցը\n",
      "\n",
      "       May 2017\n",
      "Mo Tu We Th Fr Sa Su\n",
      " 1  2  3  4  5  6  7\n",
      " 8  9 10 11 12 13 14\n",
      "15 16 17 18 19 20 21\n",
      "22 23 24 25 26 27 28\n",
      "29 30 31\n",
      "\n"
     ]
    }
   ],
   "source": [
    "print(\"2017թ․-ի Մայիսի օրացույցը\\n\\n {}\".format(calendar.month(2017, 5)))"
   ]
  },
  {
   "cell_type": "markdown",
   "metadata": {},
   "source": [
    ">> 4) Տպեք երեկվա ամսաթիվը և այս պահի ժամանակը"
   ]
  },
  {
   "cell_type": "code",
   "execution_count": 128,
   "metadata": {},
   "outputs": [
    {
     "name": "stdout",
     "output_type": "stream",
     "text": [
      "երեկվա ամսաթիվը:  2018-09-23, \n",
      "այս պահի ժամանակը 23:47:07.085676\n"
     ]
    }
   ],
   "source": [
    "delta = datetime.timedelta(days = 1)\n",
    "print(\"երեկվա ամսաթիվը:  {}, \\nայս պահի ժամանակը {}\".format(today - delta, datetime.datetime.time(datetime.datetime.now())))"
   ]
  },
  {
   "cell_type": "markdown",
   "metadata": {},
   "source": [
    ">>>> a) Ավելացրեք երեկվա ամսաթվին 2 օր ու տպեք արդյունքը"
   ]
  },
  {
   "cell_type": "code",
   "execution_count": 129,
   "metadata": {},
   "outputs": [
    {
     "name": "stdout",
     "output_type": "stream",
     "text": [
      "Ավելացրեք երեկվա ամսաթվին 2 օր: 2018-09-25\n"
     ]
    }
   ],
   "source": [
    "print(\"Ավելացրեք երեկվա ամսաթվին 2 օր: {}\".format((today - delta) + 2*delta))"
   ]
  },
  {
   "cell_type": "markdown",
   "metadata": {},
   "source": [
    ">>>> b) Հանեք երեկվա ամսաթվից 3 օր ու տպեք արդյունքը"
   ]
  },
  {
   "cell_type": "code",
   "execution_count": 130,
   "metadata": {},
   "outputs": [
    {
     "name": "stdout",
     "output_type": "stream",
     "text": [
      "Հանեք երեկվա ամսաթվից 3 օր: 2018-09-20\n"
     ]
    }
   ],
   "source": [
    "print(\"Հանեք երեկվա ամսաթվից 3 օր: {}\".format((today - delta) - 3*delta))"
   ]
  },
  {
   "cell_type": "markdown",
   "metadata": {},
   "source": [
    "# Լրացուցիչ առաջադրանք (ոչ պարտադիր, նույն ինքը extra problem :D)"
   ]
  },
  {
   "cell_type": "markdown",
   "metadata": {},
   "source": [
    "> Մեզ տրված են 3, 5, 6, 8 թվերը։ Ստուգեք թե որ թվերն են զույգ և որոնք կենտ\n",
    "օգտագործելով ‘%’ գործողությունը։ Ստուգելուց հետո տպեք Ձեր ստացած\n",
    "արդյունքները հետևյալ ֆորմատով՝\n",
    "7 - odd\n",
    "10 - even"
   ]
  },
  {
   "cell_type": "code",
   "execution_count": 132,
   "metadata": {},
   "outputs": [
    {
     "name": "stdout",
     "output_type": "stream",
     "text": [
      "3 - odd\n",
      "5 - odd\n",
      "6 - even\n",
      "8 - even\n"
     ]
    }
   ],
   "source": [
    "a= [3,5,6,8]\n",
    "for i in a:\n",
    "    if i%2 == 0:\n",
    "        print('{} - even'.format(i))\n",
    "    else:\n",
    "        print('{} - odd'.format(i))"
   ]
  }
 ],
 "metadata": {
  "kernelspec": {
   "display_name": "Python 3",
   "language": "python",
   "name": "python3"
  },
  "language_info": {
   "codemirror_mode": {
    "name": "ipython",
    "version": 3
   },
   "file_extension": ".py",
   "mimetype": "text/x-python",
   "name": "python",
   "nbconvert_exporter": "python",
   "pygments_lexer": "ipython3",
   "version": "3.6.5"
  }
 },
 "nbformat": 4,
 "nbformat_minor": 2
}
