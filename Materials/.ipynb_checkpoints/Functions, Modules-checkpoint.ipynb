{
 "cells": [
  {
   "cell_type": "markdown",
   "metadata": {},
   "source": [
    "# Functions\n",
    "Functions are common to all programming languages, and it can be defined as a block of re-usable code to perform specific tasks. But defining functions in Python means knowing both types first: built-in and user-defined. Built-in functions are usually a part of Python packages and libraries, whereas user-defined functions are written by the developers to meet certain requirements. In Python, all functions are treated as objects, so it is more flexible compared to other high-level languages."
   ]
  },
  {
   "cell_type": "markdown",
   "metadata": {},
   "source": [
    "# Function definition syntax\n",
    "Function definitions in python can be described with this generic template\n",
    "\n",
    "\n",
    "```python\n",
    "def function_name(function_arg_1, function_arg_2, function_arg_3 ...): \n",
    "    # some code here\n",
    "    # ...\n",
    "    # ...\n",
    "    # ...\n",
    "\n",
    "    return something # or you can have no return statement\n",
    "```"
   ]
  },
  {
   "cell_type": "markdown",
   "metadata": {},
   "source": [
    "# Function arguments in Python\n",
    "\n",
    "In Python, user-defined functions can take four different types of arguments. The argument types and their meanings, however, are pre-defined and can’t be changed. But a developer can, instead,  follow these pre-defined rules to make their own custom functions. The following are the four types of arguments and their rules."
   ]
  },
  {
   "cell_type": "markdown",
   "metadata": {},
   "source": [
    "### 1. Default arguments\n",
    "\n",
    "Python has a different way of representing syntax and default values for function arguments. Default values indicate that the function argument will take that value if no argument value is passed during function call. The default value is assigned by using assignment ```=``` operator. Below is a typical syntax for default argument. Here, ```msg``` parameter has a default value ```Hello```!"
   ]
  },
  {
   "cell_type": "code",
   "execution_count": 36,
   "metadata": {},
   "outputs": [
    {
     "name": "stdout",
     "output_type": "stream",
     "text": [
      "Hello, Armean\n"
     ]
    }
   ],
   "source": [
    "# Function definition\n",
    "def defaultArg(name = \"Narek\"):\n",
    "    print(\"Hello, \" + name)\n",
    "\n",
    "# Function call\n",
    "# If i change the argument it will work with the changed argument\n",
    "defaultArg(name = \"Armean\")"
   ]
  },
  {
   "cell_type": "code",
   "execution_count": 37,
   "metadata": {},
   "outputs": [
    {
     "name": "stdout",
     "output_type": "stream",
     "text": [
      "Hello, Narek\n"
     ]
    }
   ],
   "source": [
    "# If I don't pass an argument, python will not throw an error, but rather use the default argument\n",
    "defaultArg()"
   ]
  },
  {
   "cell_type": "markdown",
   "metadata": {},
   "source": [
    "### 2. Required arguments:\n",
    "Unlike default argumetns, required arguments are the mandatory arguments of a function. These argument values must be passed in correct number and order during function call. Below is a typical syntax for a required argument function."
   ]
  },
  {
   "cell_type": "code",
   "execution_count": 38,
   "metadata": {},
   "outputs": [
    {
     "name": "stdout",
     "output_type": "stream",
     "text": [
      "My name is Armen and I am 25 years old.\n"
     ]
    }
   ],
   "source": [
    "# Function definition\n",
    "def requiredArg(name, age):\n",
    "    print(\"My name is %s and I am %d years old.\" % (name, age))\n",
    "\n",
    "# Function call\n",
    "requiredArg(\"Armen\", 25)"
   ]
  },
  {
   "cell_type": "code",
   "execution_count": 39,
   "metadata": {},
   "outputs": [
    {
     "ename": "TypeError",
     "evalue": "requiredArg() missing 2 required positional arguments: 'name' and 'age'",
     "output_type": "error",
     "traceback": [
      "\u001b[0;31m---------------------------------------------------------------------------\u001b[0m",
      "\u001b[0;31mTypeError\u001b[0m                                 Traceback (most recent call last)",
      "\u001b[0;32m<ipython-input-39-1e6b8a21b055>\u001b[0m in \u001b[0;36m<module>\u001b[0;34m()\u001b[0m\n\u001b[1;32m      1\u001b[0m \u001b[0;31m# If I don't pass an argument, python will  throw an error,because it has no default arguments\u001b[0m\u001b[0;34m\u001b[0m\u001b[0;34m\u001b[0m\u001b[0m\n\u001b[0;32m----> 2\u001b[0;31m \u001b[0mrequiredArg\u001b[0m\u001b[0;34m(\u001b[0m\u001b[0;34m)\u001b[0m\u001b[0;34m\u001b[0m\u001b[0m\n\u001b[0m",
      "\u001b[0;31mTypeError\u001b[0m: requiredArg() missing 2 required positional arguments: 'name' and 'age'"
     ]
    }
   ],
   "source": [
    "# If I don't pass an argument, python will  throw an error,because it has no default arguments\n",
    "requiredArg()"
   ]
  },
  {
   "cell_type": "markdown",
   "metadata": {},
   "source": [
    "### 3. Keyword arguments:\n",
    "Keyword arguments are relevant for Python function calls. The keywords are mentioned during the function call along with their corresponding values. These keywords are mapped with the function arguments so the function can easily identify the corresponding values even if the order is not maintained during the function call. The following is the syntax for keyword arguments."
   ]
  },
  {
   "cell_type": "code",
   "execution_count": 41,
   "metadata": {},
   "outputs": [
    {
     "name": "stdout",
     "output_type": "stream",
     "text": [
      "My name is Armen and I am 25 years old.\n"
     ]
    }
   ],
   "source": [
    "# Function definition\n",
    "def keywordArg(name, age) :\n",
    "    print(\"My name is %s and I am %d years old.\" % (name, age))\n",
    "\n",
    "# Function call\n",
    "keywordArg(name = \"Armen\", age = 25)"
   ]
  },
  {
   "cell_type": "code",
   "execution_count": 42,
   "metadata": {},
   "outputs": [
    {
     "name": "stdout",
     "output_type": "stream",
     "text": [
      "My name is Armen and I am 25 years old.\n"
     ]
    }
   ],
   "source": [
    "# Note that reverse order also works\n",
    "keywordArg(age = 25, name = \"Armen\")"
   ]
  },
  {
   "cell_type": "markdown",
   "metadata": {},
   "source": [
    "### 4. Variable number of arguments:\n",
    "This is very useful when we do not know the exact number of arguments that will be passed to a function. Or we can have a design where any number of arguments can be passed based on the requirement. Below is the syntax for this type of function call."
   ]
  },
  {
   "cell_type": "code",
   "execution_count": 45,
   "metadata": {},
   "outputs": [
    {
     "name": "stdout",
     "output_type": "stream",
     "text": [
      "30\n",
      "40\n",
      "50\n",
      "60\n"
     ]
    }
   ],
   "source": [
    "# Function definition\n",
    "def varlengthArgs(*varargs):\n",
    "    for arg in varargs:\n",
    "        print(arg)\n",
    "# Function call\n",
    "varlengthArgs(30,40,50,60)"
   ]
  },
  {
   "cell_type": "markdown",
   "metadata": {},
   "source": [
    "# Modules and Packages\n",
    "In programming, a module is a piece of software that has a specific functionality. For example, when building a ping pong game, one module would be responsible for the game logic, and\n",
    "another module would be responsible for drawing the game on the screen. Each module is a different file, which can be edited separately.\n",
    "\n",
    "## Writing modules\n",
    "Modules in Python are simply Python files with a .py extension. The name of the module will be the name of the file. A Python module can have a set of functions, classes or variables defined and implemented. In the example above, we will have two files, we will have:\n",
    "\n",
    "```python\n",
    "mygame/\n",
    "mygame/game.py\n",
    "mygame/draw.py\n",
    "```"
   ]
  },
  {
   "cell_type": "markdown",
   "metadata": {},
   "source": [
    "The Python script ```game.py``` will implement the game. It will use the function ```draw_game``` from the file ```draw.py```, or in other words, the ```draw``` module, that implements the logic for drawing the game on the screen.\n",
    "\n",
    "Modules are imported from other modules using the import command. In this example, the ```game.py``` script may look something like this:\n",
    "\n",
    "```python\n",
    "# game.py\n",
    "# import the draw module\n",
    "import draw\n",
    "\n",
    "def play_game():\n",
    "    pass\n",
    "\n",
    "def main():\n",
    "    result = play_game()\n",
    "    draw.draw_game(result)\n",
    "\n",
    "# this means that if this script is executed, then \n",
    "# main() will be executed\n",
    "if __name__ == '__main__':\n",
    "    main()\n",
    "```\n",
    "    \n",
    "The ```draw``` module may look something like this:\n",
    "\n",
    "```python\n",
    "# draw.py\n",
    "\n",
    "def draw_game():\n",
    "    return something\n",
    "\n",
    "def clear_screen(screen):\n",
    "    return something\n",
    "```\n",
    "\n",
    "In this example, the game module imports the load module, which enables it to use functions implemented in that module. The main function would use the local function play_game to run the game, and then draw the result of the game using a function implemented in the draw module called draw_game. To use the function draw_game from the draw module, we would need to specify in which module the function is implemented, using the dot operator. To reference the draw_game function from the game module, we would need to import the draw module and only then call ```draw.draw_game()```.\n",
    "\n",
    "When the import draw directive will run, the Python interpreter will look for a file in the directory which the script was executed from, by the name of the module with a ```.py``` prefix, so in our case it will try to look for ```draw.py```. If it will find one, it will import it. If not, he will continue to look for built-in modules.\n",
    "\n",
    "You may have noticed that when importing a module, a ```.pyc``` file appears, which is a compiled Python file. Python compiles files into Python bytecode so that it won't have to parse the files each time modules are loaded. If a ```.pyc``` file exists, it gets loaded instead of the ```.py``` file, but this process is transparent to the user."
   ]
  },
  {
   "cell_type": "markdown",
   "metadata": {},
   "source": [
    "```python\n",
    "\n",
    "```\n",
    "\n",
    "### Importing module objects to the current namespace\n",
    "```python\n",
    "# game.py\n",
    "# import the draw module\n",
    "from draw import draw_game\n",
    "\n",
    "def main():\n",
    "    result = play_game()\n",
    "    draw_game(result)\n",
    "```\n",
    "\n",
    "### Importing all objects from a module\n",
    "\n",
    "```python\n",
    "# game.py\n",
    "# import the draw module\n",
    "from draw import *\n",
    "\n",
    "def main():\n",
    "    result = play_game()\n",
    "    draw_game(result)\n",
    "```\n",
    "\n",
    "where ```*``` denotes improting everything form ```draw``` module\n",
    "\n",
    "### Custom import name\n",
    "If you don't like like the name of the module, you can import it with a custom name\n",
    "\n",
    "```python\n",
    "import draw as drw\n",
    "\n",
    "```\n",
    "\n",
    "### Combining all\n",
    "```python\n",
    "from draw import draw_game as dg\n",
    "\n",
    "```\n",
    "\n",
    "\n",
    "### Module initialization\n",
    "The first time a module is loaded into a running Python script, it is initialized by executing the code in the module once. If another module in your code imports the same module again, it will not be loaded twice but once only - so local variables inside the module act as a ```\"singleton\"``` - they are initialized only once.\n",
    "\n",
    "This is useful to know, because this means that you can rely on this behavior for initializing objects. \n",
    "\n",
    "### Extending module load path\n",
    "There are a couple of ways we could tell the Python interpreter where to look for modules, aside from the default, which is the local directory and the built-in modules. You could either use the environment variable ```PYTHONPATH``` to specify additional directories to look for modules in, like this\n",
    "\n",
    "```python\n",
    "PYTHONPATH=/foo python game.py\n",
    "```\n",
    "\n",
    "This will execute game.py, and will enable the script to load modules from the foo directory as well as the local directory.\n",
    "\n",
    "Another method is the ```sys.path.append``` function. You may execute it **before** running an ```import``` command:\n",
    "\n",
    "\n",
    "```python\n",
    "sys.path.append(\"/foo\")\n",
    "```\n",
    "This will add the foo directory to the list of paths to look for modules in as well.\n",
    "\n",
    "### Exploring built-in modules\n",
    "\n",
    "Two very important functions come in handy when exploring modules in Python - the ```dir``` and ```help``` functions, which we met earlier.\n",
    "\n",
    "If we want to ```import``` the module ```urllib```, which enables us to create read data from URLs, we simply import the module:\n",
    "\n",
    "\n",
    "```python\n",
    "# import the library\n",
    "import urllib\n",
    "\n",
    "# use it\n",
    "urllib.urlopen(...)\n",
    "```"
   ]
  },
  {
   "cell_type": "code",
   "execution_count": 19,
   "metadata": {},
   "outputs": [
    {
     "data": {
      "text/plain": [
       "['__builtins__',\n",
       " '__cached__',\n",
       " '__doc__',\n",
       " '__file__',\n",
       " '__loader__',\n",
       " '__name__',\n",
       " '__package__',\n",
       " '__path__',\n",
       " '__spec__',\n",
       " 'parse']"
      ]
     },
     "execution_count": 19,
     "metadata": {},
     "output_type": "execute_result"
    }
   ],
   "source": [
    "import urllib\n",
    "dir(urllib)"
   ]
  },
  {
   "cell_type": "code",
   "execution_count": null,
   "metadata": {},
   "outputs": [],
   "source": []
  }
 ],
 "metadata": {
  "kernelspec": {
   "display_name": "Python 3",
   "language": "python",
   "name": "python3"
  },
  "language_info": {
   "codemirror_mode": {
    "name": "ipython",
    "version": 3
   },
   "file_extension": ".py",
   "mimetype": "text/x-python",
   "name": "python",
   "nbconvert_exporter": "python",
   "pygments_lexer": "ipython3",
   "version": "3.6.5"
  }
 },
 "nbformat": 4,
 "nbformat_minor": 2
}
