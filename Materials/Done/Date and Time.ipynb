{
 "cells": [
  {
   "cell_type": "markdown",
   "metadata": {},
   "source": [
    "## Date and Time"
   ]
  },
  {
   "cell_type": "markdown",
   "metadata": {},
   "source": [
    "There is a popular time module available in Python which provides functions for working with times, and for converting between representations. The function time.time() returns the current system time in ticks since 12:00am, January 1, 1970(epoch).\n",
    "\n",
    "1 Tick = 1 Second"
   ]
  },
  {
   "cell_type": "code",
   "execution_count": 1,
   "metadata": {},
   "outputs": [
    {
     "name": "stdout",
     "output_type": "stream",
     "text": [
      "Number of ticks since 12:00am, January 1, 1970: 1537822039.9130964\n"
     ]
    }
   ],
   "source": [
    "import time\n",
    "\n",
    "ticks = time.time()\n",
    "print (\"Number of ticks since 12:00am, January 1, 1970:\", ticks)"
   ]
  },
  {
   "cell_type": "code",
   "execution_count": 2,
   "metadata": {},
   "outputs": [
    {
     "name": "stdout",
     "output_type": "stream",
     "text": [
      "Local current time : time.struct_time(tm_year=2018, tm_mon=9, tm_mday=25, tm_hour=0, tm_min=47, tm_sec=22, tm_wday=1, tm_yday=268, tm_isdst=0)\n"
     ]
    }
   ],
   "source": [
    "localtime = time.localtime()\n",
    "print (\"Local current time :\", time.localtime())"
   ]
  },
  {
   "cell_type": "code",
   "execution_count": 3,
   "metadata": {},
   "outputs": [
    {
     "name": "stdout",
     "output_type": "stream",
     "text": [
      "Local current time : Tue Sep 25 00:47:35 2018\n"
     ]
    }
   ],
   "source": [
    "localtime = time.asctime()\n",
    "print (\"Local current time :\", localtime)"
   ]
  },
  {
   "cell_type": "code",
   "execution_count": 4,
   "metadata": {},
   "outputs": [
    {
     "name": "stdout",
     "output_type": "stream",
     "text": [
      "Tue Sep 25 00:47:40 2018\n"
     ]
    }
   ],
   "source": [
    "print(time.ctime())"
   ]
  },
  {
   "cell_type": "markdown",
   "metadata": {
    "collapsed": true
   },
   "source": [
    "### Getting calendar for a month"
   ]
  },
  {
   "cell_type": "code",
   "execution_count": 5,
   "metadata": {},
   "outputs": [
    {
     "name": "stdout",
     "output_type": "stream",
     "text": [
      "Here is the calendar:\n",
      "    January 2008\n",
      "Mo Tu We Th Fr Sa Su\n",
      "    1  2  3  4  5  6\n",
      " 7  8  9 10 11 12 13\n",
      "14 15 16 17 18 19 20\n",
      "21 22 23 24 25 26 27\n",
      "28 29 30 31\n",
      "\n"
     ]
    },
    {
     "data": {
      "text/plain": [
       "str"
      ]
     },
     "execution_count": 5,
     "metadata": {},
     "output_type": "execute_result"
    }
   ],
   "source": [
    "import calendar\n",
    "\n",
    "cal = calendar.month(2008, 1)\n",
    "print (\"Here is the calendar:\")\n",
    "print (cal)\n",
    "type(cal)"
   ]
  },
  {
   "cell_type": "code",
   "execution_count": 6,
   "metadata": {},
   "outputs": [
    {
     "name": "stdout",
     "output_type": "stream",
     "text": [
      "2016-07-24\n"
     ]
    }
   ],
   "source": [
    "import datetime\n",
    "\n",
    "d = datetime.date(2016, 7, 24)\n",
    "print(d)"
   ]
  },
  {
   "cell_type": "code",
   "execution_count": 21,
   "metadata": {},
   "outputs": [
    {
     "name": "stdout",
     "output_type": "stream",
     "text": [
      "Date:  2018-09-18\n",
      "Year:  2018\n",
      "Month:  9\n",
      "Day:  18\n",
      "Day of the week (version 0):  2\n",
      "Day of the week (version 1):  1\n"
     ]
    }
   ],
   "source": [
    "tday = datetime.date.today()\n",
    "print('Date: ', tday)\n",
    "print('Year: ', tday.year)\n",
    "print('Month: ', tday.month)\n",
    "print('Day: ', tday.day)\n",
    "print('Day of the week (version 0): ', tday.isoweekday())\n",
    "#Monday 1  Tuesday 2 ...\n",
    "print('Day of the week (version 1): ', tday.weekday())\n",
    "#Monday 0  Tuesday 1 ..."
   ]
  },
  {
   "cell_type": "code",
   "execution_count": 8,
   "metadata": {},
   "outputs": [
    {
     "name": "stdout",
     "output_type": "stream",
     "text": [
      "Date today:  2018-09-25\n",
      "7 days, 0:00:00\n",
      "Date today + 7 days:  2018-10-02\n",
      "Date today - 7 days:  2018-09-18\n"
     ]
    }
   ],
   "source": [
    "tday = datetime.date.today()\n",
    "print('Date today: ', tday)\n",
    "tdelta = datetime.timedelta(days = 7)\n",
    "print(tdelta)\n",
    "print('Date today + 7 days: ', tday + tdelta)\n",
    "print('Date today - 7 days: ', tday - tdelta)\n",
    "#date2 = date1 + timedelta"
   ]
  },
  {
   "cell_type": "code",
   "execution_count": 9,
   "metadata": {},
   "outputs": [
    {
     "name": "stdout",
     "output_type": "stream",
     "text": [
      "<class 'datetime.timedelta'>\n",
      "Days until my next birthday:  133 days, 0:00:00\n",
      "Seconds until my next birthday:  11491200.0\n"
     ]
    }
   ],
   "source": [
    "bday = datetime.date(2019, 2, 5)\n",
    "till_bday = bday - tday\n",
    "print(type(till_bday))\n",
    "print(\"Days until my next birthday: \", till_bday)\n",
    "print(\"Seconds until my next birthday: \", till_bday.total_seconds())"
   ]
  },
  {
   "cell_type": "code",
   "execution_count": 42,
   "metadata": {},
   "outputs": [
    {
     "name": "stdout",
     "output_type": "stream",
     "text": [
      "Time:  09:30:45.100000\n",
      "Hours:  30\n"
     ]
    }
   ],
   "source": [
    "# datetime.time(hour, minutes, seconds, miliseconds)\n",
    "t = datetime.time(9, 30, 45, 100000)\n",
    "print('Time: ', t)\n",
    "print('Hours: ', t.minute)"
   ]
  },
  {
   "cell_type": "code",
   "execution_count": 10,
   "metadata": {},
   "outputs": [
    {
     "name": "stdout",
     "output_type": "stream",
     "text": [
      "Date:  2016-07-26 12:30:45.100000\n",
      "Time:  12:30:45.100000\n",
      "Year:  2016\n"
     ]
    }
   ],
   "source": [
    "#datetime.datetime(year, month, day, hour, minutes, seconds, miliseconds)\n",
    "dt = datetime.datetime(2016, 7, 26, 12, 30, 45, 100000)\n",
    "print('Date: ', dt)\n",
    "print('Time: ', dt.time())\n",
    "print('Year: ', dt.year)"
   ]
  },
  {
   "cell_type": "code",
   "execution_count": 44,
   "metadata": {},
   "outputs": [
    {
     "name": "stdout",
     "output_type": "stream",
     "text": [
      "Date and Time:  2016-07-26 12:30:45.100000\n",
      "+ 7 days:  2016-07-26 19:30:45.100000\n"
     ]
    }
   ],
   "source": [
    "dt = datetime.datetime(2016, 7, 26, 12, 30, 45, 100000)\n",
    "tdelta = datetime.timedelta(hours = 7)\n",
    "print('Date and Time: ', dt)\n",
    "print('+ 7 days: ', dt + tdelta)"
   ]
  },
  {
   "cell_type": "code",
   "execution_count": 12,
   "metadata": {},
   "outputs": [
    {
     "name": "stdout",
     "output_type": "stream",
     "text": [
      "Date and Time:  2016-07-26 12:30:45.100000\n",
      "+ 12 hours:  2016-07-27 00:30:45.100000\n"
     ]
    }
   ],
   "source": [
    "dt = datetime.datetime(2016, 7, 26, 12, 30, 45, 100000)\n",
    "tdelta = datetime.timedelta(hours = 12)\n",
    "print('Date and Time: ', dt)\n",
    "print('+ 12 hours: ', dt + tdelta)"
   ]
  },
  {
   "cell_type": "code",
   "execution_count": 45,
   "metadata": {},
   "outputs": [
    {
     "name": "stdout",
     "output_type": "stream",
     "text": [
      "Date and time today:  2018-09-18 19:50:46.311272\n",
      "Date and time now:  2018-09-18 19:50:46.311271\n"
     ]
    }
   ],
   "source": [
    "dt_today = datetime.datetime.today()\n",
    "dt_now = datetime.datetime.now()\n",
    "\n",
    "print('Date and time today: ', dt_today)\n",
    "#print(1)\n",
    "print('Date and time now: ', dt_now)\n",
    "\n",
    "#the 2 would be exactly the same if were executed at the same time "
   ]
  }
 ],
 "metadata": {
  "kernelspec": {
   "display_name": "Python 3",
   "language": "python",
   "name": "python3"
  },
  "language_info": {
   "codemirror_mode": {
    "name": "ipython",
    "version": 3
   },
   "file_extension": ".py",
   "mimetype": "text/x-python",
   "name": "python",
   "nbconvert_exporter": "python",
   "pygments_lexer": "ipython3",
   "version": "3.6.5"
  }
 },
 "nbformat": 4,
 "nbformat_minor": 2
}
