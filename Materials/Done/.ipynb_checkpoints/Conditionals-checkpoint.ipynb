{
 "cells": [
  {
   "cell_type": "markdown",
   "metadata": {},
   "source": [
    "## Conditionals"
   ]
  },
  {
   "cell_type": "markdown",
   "metadata": {
    "collapsed": true
   },
   "source": [
    "### Controling what statements are executed depending if the condition evaluates to True or False."
   ]
  },
  {
   "cell_type": "code",
   "execution_count": 1,
   "metadata": {},
   "outputs": [
    {
     "name": "stdout",
     "output_type": "stream",
     "text": [
      "The condition was True\n"
     ]
    }
   ],
   "source": [
    "#Pay attention to the spacing\n",
    "if True:\n",
    "    print('The condition was True')"
   ]
  },
  {
   "cell_type": "code",
   "execution_count": 2,
   "metadata": {},
   "outputs": [],
   "source": [
    "if False:\n",
    "    print('The condition was True')"
   ]
  },
  {
   "cell_type": "code",
   "execution_count": 3,
   "metadata": {},
   "outputs": [
    {
     "ename": "IndentationError",
     "evalue": "expected an indented block (<ipython-input-3-d214ebfd6723>, line 2)",
     "output_type": "error",
     "traceback": [
      "\u001b[1;36m  File \u001b[1;32m\"<ipython-input-3-d214ebfd6723>\"\u001b[1;36m, line \u001b[1;32m2\u001b[0m\n\u001b[1;33m    print('The condition was True')\u001b[0m\n\u001b[1;37m        ^\u001b[0m\n\u001b[1;31mIndentationError\u001b[0m\u001b[1;31m:\u001b[0m expected an indented block\n"
     ]
    }
   ],
   "source": [
    "if False:\n",
    "print('The condition was True')"
   ]
  },
  {
   "cell_type": "code",
   "execution_count": 11,
   "metadata": {},
   "outputs": [
    {
     "name": "stdout",
     "output_type": "stream",
     "text": [
      "The condition was True\n"
     ]
    }
   ],
   "source": [
    "#Conditions are usually not hardcoded to True or False, like in previous examples\n",
    "#Assigning -> ' = ', testing for equality -> ' == '\n",
    "name = \"Shahane\"\n",
    "if name == \"Shahane\":\n",
    "    print('The condition was True')"
   ]
  },
  {
   "cell_type": "code",
   "execution_count": 5,
   "metadata": {},
   "outputs": [
    {
     "name": "stdout",
     "output_type": "stream",
     "text": [
      "The name is Shahane\n"
     ]
    }
   ],
   "source": [
    "#Do somthing else if the condition doesn't evaluate to True\n",
    "name = \"Shahane\"  #\"Aram\"\n",
    "if name == \"Shahane\":\n",
    "    print(\"The name is Shahane\")\n",
    "else:\n",
    "    print(\"The name is not Shahane\")"
   ]
  },
  {
   "cell_type": "code",
   "execution_count": 6,
   "metadata": {},
   "outputs": [
    {
     "name": "stdout",
     "output_type": "stream",
     "text": [
      "The name is Aram\n"
     ]
    }
   ],
   "source": [
    "#Do an additional check\n",
    "\n",
    "name = \"Aram\"  #try changing to \"Shahane\" and \"Ani\"\n",
    "if name == \"Shahane\":\n",
    "    print(\"The name is Shahane\")\n",
    "elif name == \"Aram\":\n",
    "    print(\"The name is Aram\")\n",
    "else:\n",
    "    print(\"The name is not in the list\")"
   ]
  },
  {
   "cell_type": "code",
   "execution_count": 9,
   "metadata": {},
   "outputs": [
    {
     "name": "stdout",
     "output_type": "stream",
     "text": [
      "The name is  Aram\n"
     ]
    }
   ],
   "source": [
    "name = \"Aram\"  #try changing to \"Shahane\" and \"Ani\"\n",
    "if name == \"Shahane\" or name == 'Aram':\n",
    "    print(\"The name is \", name)\n",
    "else:\n",
    "    print(\"The name is not in the list\")"
   ]
  },
  {
   "cell_type": "code",
   "execution_count": 15,
   "metadata": {},
   "outputs": [
    {
     "name": "stdout",
     "output_type": "stream",
     "text": [
      "The name is not in the list\n"
     ]
    }
   ],
   "source": [
    "#We can add more elif statements if needed\n",
    "\n",
    "name = \"Ani\"  #try changing to \"Shahane\" and \"Ani\"\n",
    "if name == \"Shahane\":\n",
    "    print(\"The name is Shahane\")\n",
    "elif name == \"Aram\":\n",
    "    print(\"Hi, Aram\")\n",
    "elif name == \"Anna\":\n",
    "    print(\"Hey, Anna\")\n",
    "elif name == \"Tigran\":\n",
    "    print(\"Hello, Tigran\")\n",
    "else:\n",
    "    print(\"The name is not in the list\")"
   ]
  },
  {
   "cell_type": "code",
   "execution_count": 16,
   "metadata": {},
   "outputs": [
    {
     "name": "stdout",
     "output_type": "stream",
     "text": [
      "Please register for the course!\n"
     ]
    }
   ],
   "source": [
    "#Let's use boolean operations and, or, not\n",
    "\n",
    "\n",
    "#Both of the conditions have to be True\n",
    "course = \"Python Intro\"\n",
    "registered = False #Try changing to True\n",
    "\n",
    "if course == \"Python Intro\" and registered == True:  #OR we can just write registered instead of registered == True\n",
    "    print(\"Welcome to the class!\")\n",
    "else:\n",
    "    print(\"Please register for the course!\")"
   ]
  },
  {
   "cell_type": "code",
   "execution_count": 17,
   "metadata": {},
   "outputs": [
    {
     "name": "stdout",
     "output_type": "stream",
     "text": [
      "Welcome to the class!\n"
     ]
    }
   ],
   "source": [
    "#Only 1 of the conditions has to be True\n",
    "course = \"Python Intro\"\n",
    "registered = False #Try changing to True\n",
    "\n",
    "if course == \"Python Intro\" or registered == True:  #OR we can just right registered instead of registered == True\n",
    "    print(\"Welcome to the class!\")\n",
    "else:\n",
    "    print(\"Please register for the course!\")"
   ]
  },
  {
   "cell_type": "code",
   "execution_count": 18,
   "metadata": {},
   "outputs": [
    {
     "name": "stdout",
     "output_type": "stream",
     "text": [
      "Please register for the course!\n"
     ]
    }
   ],
   "source": [
    "registered = False #Try changing to True\n",
    "\n",
    "if not registered:\n",
    "    print(\"Please register for the course!\")"
   ]
  },
  {
   "cell_type": "code",
   "execution_count": 19,
   "metadata": {},
   "outputs": [
    {
     "name": "stdout",
     "output_type": "stream",
     "text": [
      "True\n",
      "False\n",
      "83468232\n",
      "77319944\n"
     ]
    }
   ],
   "source": [
    "#2 objects are equal but they are NOT the same object in the memory\n",
    "\n",
    "a = [1,2,3]\n",
    "b = [1,2,3]\n",
    "\n",
    "print(a == b)\n",
    "print(a is b) #this is the same as id(a) == id(b)\n",
    "\n",
    "print(id(a))\n",
    "print(id(b))"
   ]
  },
  {
   "cell_type": "markdown",
   "metadata": {
    "collapsed": true
   },
   "source": [
    "## False values in Python:\n",
    "    \n",
    "### False\n",
    "### None\n",
    "### Zero of any numeric type\n",
    "### Any empty sequence. E.g. '', (), []\n",
    "### Any empty mapping. E.g. {}"
   ]
  },
  {
   "cell_type": "code",
   "execution_count": 20,
   "metadata": {},
   "outputs": [
    {
     "name": "stdout",
     "output_type": "stream",
     "text": [
      "Evaluated to False\n"
     ]
    }
   ],
   "source": [
    "condition = None  # Try changing this value to False, 0, 0.0, '', (), [], {}; now try changing to, say 10\n",
    "\n",
    "if condition:\n",
    "    print(\"Evaluated to True\")\n",
    "else:\n",
    "    print(\"Evaluated to False\")"
   ]
  },
  {
   "cell_type": "code",
   "execution_count": 1,
   "metadata": {},
   "outputs": [
    {
     "ename": "SyntaxError",
     "evalue": "invalid syntax (<ipython-input-1-99a63758ce4d>, line 1)",
     "output_type": "error",
     "traceback": [
      "\u001b[1;36m  File \u001b[1;32m\"<ipython-input-1-99a63758ce4d>\"\u001b[1;36m, line \u001b[1;32m1\u001b[0m\n\u001b[1;33m    pass = input('Input Password : ')\u001b[0m\n\u001b[1;37m         ^\u001b[0m\n\u001b[1;31mSyntaxError\u001b[0m\u001b[1;31m:\u001b[0m invalid syntax\n"
     ]
    }
   ],
   "source": [
    "pass = input('Input Password : ')"
   ]
  },
  {
   "cell_type": "code",
   "execution_count": null,
   "metadata": {},
   "outputs": [],
   "source": []
  }
 ],
 "metadata": {
  "kernelspec": {
   "display_name": "Python 3",
   "language": "python",
   "name": "python3"
  },
  "language_info": {
   "codemirror_mode": {
    "name": "ipython",
    "version": 3
   },
   "file_extension": ".py",
   "mimetype": "text/x-python",
   "name": "python",
   "nbconvert_exporter": "python",
   "pygments_lexer": "ipython3",
   "version": "3.6.5"
  }
 },
 "nbformat": 4,
 "nbformat_minor": 2
}
