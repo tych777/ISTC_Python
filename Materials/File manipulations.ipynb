{
 "cells": [
  {
   "cell_type": "markdown",
   "metadata": {},
   "source": [
    "# File manipulations\n",
    "```open()```, ```read()```, ```readline()```, ```readlines()```, ```write()```, ```writelines()```\n",
    "\n",
    "In programming in general, it is very useful to be able to ```read``` ```write``` or otherwise manipulate files. Files are a type of external input to our program. We saw how we can provide python with some external arguments with ```sys.argv```, but this is only feasible for small inputs. If you want to operate over big inputs, then file manipulations are the way to go."
   ]
  },
  {
   "cell_type": "markdown",
   "metadata": {},
   "source": [
    "# Open()\n",
    "```python\n",
    "open(file, mode='r', buffering=-1, encoding=None, errors=None, newline=None, closefd=True, opener=None)```\n",
    "<br>\n",
    "```file       ```      -  relative or absolute path to the file<br>\n",
    "```mode```      - optional string that specifies the mode in which the file is opened<br>\n",
    "```buffering``` - how much of the read file to keep in the memory buffer<br>\n",
    "```encoding```  - the name of the encoding used to decode or encode the file e.g. ```utf-8```<br>\n",
    "```errors```    - specifies how to handle the errors<br>\n",
    "```newline```   - specifies what charecters denote new line  (it only applies to text mode).<br>\n",
    "```closefd```   - weather or not to close the file descriptor<br>\n",
    "```opener```    - allows the user to specify a custom file opener<br>"
   ]
  },
  {
   "cell_type": "markdown",
   "metadata": {},
   "source": [
    "## More details about the arguments** <br>\n",
    "\n",
    "## ```file``` - this is the file address in the memory of your coumputer, relative or absolute.\n",
    "> For example :\n",
    "> > ```./Desktop/some_file.txt``` <br> \n",
    " this is a relative path\n",
    " \n",
    "> > ```~/home/ml-02/Desktop/some_file.txt``` <br> \n",
    " this is an absolute path\n",
    "\n",
    "## ```mode```  \n",
    "> mode is an optional string that specifies the mode in which the file is opened. It defaults to 'r' which means open for reading in text mode. Other common values are 'w' for writing (truncating the file if it already exists), 'x' for exclusive creation and 'a' for appending (which on some Unix systems, means that all writes append to the end of the file regardless of the current seek position). In text mode, if encoding is not specified the encoding used is platform dependent: locale.getpreferredencoding(False) is called to get the current locale encoding.\n",
    "> > ```'r'```\topen for reading (default)  <br> \n",
    "```'w'```\topen for writing, truncating the file first  <br> \n",
    "```'x'```\topen for exclusive creation, failing if the file already exists  <br> \n",
    "```'a'```\topen for writing, appending to the end of the file if it exists <br> \n",
    "```'b'```\tbinary mode <br> \n",
    "```'t'```\ttext mode (default) <br> \n",
    "```'+'```\topen a disk file for updating (reading and writing) <br> \n",
    "\n",
    "The default mode is ```'r'``` (open for reading text, synonym of 'rt'). For binary read-write access, the mode ```'w+b'``` opens and truncates the file to 0 bytes. ```'r+b'``` opens the file without truncation.\n",
    "\n",
    "## ```buffering```\n",
    "> buffering is an optional integer used to set the buffering policy. Pass 0 to switch buffering off (only allowed in binary mode), 1 to select line buffering (only usable in text mode), and an integer > 1 to indicate the size in bytes of a fixed-size chunk buffer. When no buffering argument is given, the default buffering policy works as follows:\n",
    "\n",
    "- Binary files are buffered in fixed-size chunks; the size of the buffer is chosen using a heuristic trying to determine the underlying device’s “block size” and falling back on io.DEFAULT_BUFFER_SIZE. On many systems, the buffer will typically be 4096 or 8192 bytes long.\n",
    "- “Interactive” text files (files for which isatty() returns True) use line buffering. Other text files use the policy described above for binary files.\n",
    "\n",
    "\n",
    "## ```encoding```\n",
    "> This is the name of the encoding used to decode or encode the file. This should only be used in text mode. The default encoding is platform dependent, but any text encoding supported by Python can be used.\n",
    "> ``` \n",
    "codecs.BOM\n",
    "codecs.BOM_BE\n",
    "codecs.BOM_LE\n",
    "codecs.BOM_UTF8\n",
    "codecs.BOM_UTF16\n",
    "codecs.BOM_UTF16_BE\n",
    "codecs.BOM_UTF16_LE\n",
    "codecs.BOM_UTF32\n",
    "codecs.BOM_UTF32_BE\n",
    "codecs.BOM_UTF32_LE\n",
    "```\n",
    "\n",
    "## ```errors```\n",
    "> is an optional string that specifies how encoding and decoding errors are to be handled—this cannot be used in binary mode. The standard names include but not limited to:\n",
    "- ```strict``` to raise a ValueError exception if there is an encoding error. The default value of None has the same effect.\n",
    "- ```ignore``` ignores errors. Note that ignoring encoding errors can lead to data loss.\n",
    "- ```replace``` causes a replacement marker (such as '?') to be inserted where there is malformed data.\n",
    "\n",
    "## ```newline```\n",
    "> controls how universal newlines mode works (it only applies to text mode). It can be None, ```''```, ```\\n```, ```\\r```, and ```\\r\\n```.\n",
    "\n",
    "## ```closefd``` ***IGNORE THIS***\n",
    "> If is False and a file descriptor rather than a filename was given, the underlying file descriptor will be kept open when the file is closed. If a filename is given closefd must be True (the default) otherwise an error will be raised.\n",
    "\n",
    "## ```opener```\n",
    "> A custom opener can be used by passing a callable as opener. The underlying file descriptor for the file object is then obtained by calling opener with (file, flags). opener must return an open file descriptor.\n",
    "\n",
    "***I know this is a lot to grasp, but let's look at some examples***"
   ]
  },
  {
   "cell_type": "code",
   "execution_count": 75,
   "metadata": {},
   "outputs": [
    {
     "data": {
      "text/plain": [
       "<_io.TextIOWrapper name='./cnus.txt' mode='r' encoding='UTF-8'>"
      ]
     },
     "execution_count": 75,
     "metadata": {},
     "output_type": "execute_result"
    }
   ],
   "source": [
    "# Let's first open the file \n",
    "sherlock_file = open('./cnus.txt', 'r', newline='\\n')\n",
    "sherlock_file"
   ]
  },
  {
   "cell_type": "markdown",
   "metadata": {},
   "source": [
    "### ```read(size)```\n",
    "Now that we've read the file into a ```File Object```, we can extract the text by using one of the properties of this obejts - ```read```."
   ]
  },
  {
   "cell_type": "code",
   "execution_count": 76,
   "metadata": {},
   "outputs": [
    {
     "name": "stdout",
     "output_type": "stream",
     "text": [
      "\n",
      "\n",
      "\n",
      "\n",
      "                          THE COMPLETE SHERLOCK HOLMES\n",
      "\n",
      "                               Arthur Conan Doyle\n",
      "\n",
      "\n",
      "\n",
      "                                Table of contents\n",
      "\n",
      "               A Study In Scarlet\n",
      "\n",
      "               The Sign of the Four\n",
      "\n",
      "                  The Adventures of Sherlock Holmes\n",
      "               A Scandal in Bohemia\n",
      "               The Red-Headed League\n",
      "               A Case of Identity\n",
      "               The Boscombe Valley Mystery\n",
      "               The Five Orange Pips\n",
      "               The Man with the Twisted Lip\n",
      "               The Adventure of the Blue Carbuncle\n",
      "               The Adventure of the Speckled Band\n",
      "               The Adventure of the Engineer's Thumb\n",
      "               The Adventure of the Noble Bachelor\n",
      "               The Adventure of the Beryl Coronet\n",
      "               The Adventure of the Copper Beeches\n",
      "\n",
      "                  The Memoirs of Sherlock Holmes\n",
      "               Silver Blaze\n",
      "               The Yellow Face\n",
      "               The Stock-Broker's Clerk\n",
      "               The \"Gloria Scott\"\n",
      "               The Musgrave Ritual\n",
      "               The Reigate Squires\n",
      "               The Crooked Man\n",
      "               The Resident Patient\n",
      "               The Greek Interpreter\n",
      "               The Naval Treaty\n",
      "               The Final Problem\n",
      "\n",
      "                  The Return of Sherlock Holmes\n",
      "               The Adventure of the Empty House\n",
      "               The Adventure of the Norwood Builder\n",
      "               The Adventure of the Dancing Men\n",
      "               The Adventure of the Solitary Cyclist\n",
      "               The Adventure of the Priory School\n",
      "               The Adventure of Black Peter\n",
      "               The Adventure of Charles Augustus Milverton\n",
      "               The Adventure of the Six Napoleons\n",
      "               The Adventure of the Three Students\n",
      "               The Adventure of the Golden Pince-Nez\n",
      "               The Adventure of the Missing Three-Quarter\n",
      "               The Adventure of the Abb\n"
     ]
    }
   ],
   "source": [
    "sherlock_txt = sherlock_file.read()\n",
    "print(sherlock_txt[:1900])"
   ]
  },
  {
   "cell_type": "markdown",
   "metadata": {},
   "source": [
    "Other funcitons of ```File Object``` are \n",
    "### ```close()```\n",
    "> Close the file. A closed file cannot be read or written any more. Any operation which requires that the file be open will raise a ValueError after the file has been closed. Calling ```close()``` more than once is allowed.\n",
    "\n",
    "### ```flush()```\n",
    "> Flush the internal buffer, like stdio's ```fflush()```. This may be a no-op on some file-like objects.\n",
    "\n",
    "\n",
    "### ```fileno()```\n",
    "> Return the integer file descriptor that is used by the underlying implementation to request I/O operations from the operating system. This can be useful for other, lower level interfaces that use file descriptors, such as the fcntl module or ```os.read()``` and friends. Note: File-like objects which do not have a real file descriptor should not provide this method!\n",
    "\n",
    "\n",
    "### ```isatty()```\n",
    "> Return True if the file is connected to a tty(-like) device, else False. Note: If a file-like object is not associated with a real file, this method should not be implemented.\n",
    "\n",
    "### ```next()```\n",
    "> A file object is its own iterator, for example iter(f) returns f (unless f is closed). When a file is used as an iterator, typically in a for loop (for example, for line in f: print line), the ```next()``` method is called repeatedly. This method returns the next input line, or raises StopIteration when EOF is hit. In order to make a for loop the most efficient way of looping over the lines of a file (a very common operation), the ```next()``` method uses a hidden read-ahead buffer. As a consequence of using a read-ahead buffer, combining ```next()``` with other file methods (like ```readline()```) does not work right. However, using ```seek()``` to reposition the file to an absolute position will flush the read-ahead buffer. New in version 2.3.\n",
    "\n",
    "### ```read(size)```\n",
    "> Read at most size bytes from the file (less if the read hits EOF before obtaining size bytes). If the size argument is negative or omitted, read all data until EOF is reached. The bytes are returned as a string object. An empty string is returned when EOF is encountered immediately. (For certain files, like ttys, it makes sense to continue reading after an EOF is hit.) Note that this method may call the underlying C function ```fread()``` more than once in an effort to acquire as close to size bytes as possible. Also note that when in non-blocking mode, less data than what was requested may be returned, even if no size parameter was given.\n",
    "\n",
    "### ```readline(size)```\n",
    "> Read one entire line from the file. A trailing newline character is kept in the string (but may be absent when a file ends with an incomplete line).2.11 If the size argument is present and non-negative, it is a maximum byte count (including the trailing newline) and an incomplete line may be returned. An empty string is returned only when EOF is encountered immediately. Note: Unlike stdio's ```fgets()```, the returned string contains null characters ('\\0') if they occurred in the input.\n",
    "\n",
    "### ```readlines(sizehint)```\n",
    "> Read until EOF using ```readline()``` and return a list containing the lines thus read. If the optional sizehint argument is present, instead of reading up to EOF, whole lines totalling approximately sizehint bytes (possibly after rounding up to an internal buffer size) are read. Objects implementing a file-like interface may choose to ignore sizehint if it cannot be implemented, or cannot be implemented efficiently.\n",
    "\n",
    "### ```xreadlines()```\n",
    "> This method returns the same thing as iter(f). New in version 2.1.\n",
    "Deprecated since release 2.3. Use \"for line in file\" instead.\n",
    "\n",
    "### ```seek(offset[, whence])```\n",
    "> Set the file's current position, like stdio's ```fseek()```. The whence argument is optional and defaults to 0 (absolute file positioning); other values are 1 (seek relative to the current position) and 2 (seek relative to the file's end). There is no return value. Note that if the file is opened for appending (mode 'a' or 'a+'), any ```seek()``` operations will be undone at the next write. If the file is only opened for writing in append mode (mode 'a'), this method is essentially a no-op, but it remains useful for files opened in append mode with reading enabled (mode 'a+'). If the file is opened in text mode (without 'b'), only offsets returned by ```tell()``` are legal. Use of other offsets causes undefined behavior.\n",
    "Note that not all file objects are seekable.\n",
    "\n",
    "### ```tell()```\n",
    "> Return the file's current position, like stdio's ```ftell()```.\n",
    "Note: On Windows, ```tell()``` can return illegal values (after an ```fgets()```) when reading files with Unix-style line-endings. Use binary mode ('rb') to circumvent this problem.\n",
    "\n",
    "### ```truncate([size])```\n",
    "> Truncate the file's size. If the optional size argument is present, the file is truncated to (at most) that size. The size defaults to the current position. The current file position is not changed. Note that if a specified size exceeds the file's current size, the result is platform-dependent: possibilities include that the file may remain unchanged, increase to the specified size as if zero-filled, or increase to the specified size with undefined new content. Availability: Windows, many Unix variants.\n",
    "\n",
    "### ```write(str)```\n",
    "> Write a string to the file. There is no return value. Due to buffering, the string may not actually show up in the file until the ```flush()``` or ```close()``` method is called.\n",
    "\n",
    "### ```writelines(sequence)```\n",
    "> Write a sequence of strings to the file. The sequence can be any iterable object producing strings, typically a list of strings. There is no return value. (The name is intended to match ```readlines()```; ```writelines()``` does not add line separators.)\n",
    "Files support the iterator protocol. Each iteration returns the same result as ```file.readline()```, and iteration ends when the ```readline()``` method returns an empty string.\n",
    "File objects also offer a number of other interesting attributes. These are not required for file-like objects, but should be implemented if they make sense for the particular object.\n",
    "\n",
    "### ```closed```\n",
    "> bool indicating the current state of the file object. This is a read-only attribute; the ```close()``` method changes the value. It may not be available on all file-like objects.\n",
    "### ```encoding```\n",
    "> The encoding that this file uses. When Unicode strings are written to a file, they will be converted to byte strings using this encoding. In addition, when the file is connected to a terminal, the attribute gives the encoding that the terminal is likely to use (that information might be incorrect if the user has misconfigured the terminal). The attribute is read-only and may not be present on all file-like objects. It may also be None, in which case the file uses the system default encoding for converting Unicode strings.\n",
    "New in version 2.3.\n",
    "\n",
    "### ```mode```\n",
    "> The I/O mode for the file. If the file was created using the ```open()``` built-in function, this will be the value of the mode parameter. This is a read-only attribute and may not be present on all file-like objects.\n",
    "### ```name```\n",
    "> If the file object was created using ```open()```, the name of the file. Otherwise, some string that indicates the source of the file object, of the form ```<...>```. This is a read-only attribute and may not be present on all file-like objects.\n",
    "\n",
    "### ```newlines```\n",
    "> If Python was built with the --with-universal-newlines option to configure (the default) this read-only attribute exists, and for files opened in universal newline read mode it keeps track of the types of newlines encountered while reading the file. The values it can take are ```\\r```, ```\\n```, ```\\r\\n```, ```None``` (unknown, no newlines read yet) or a tuple containing all the newline types seen, to indicate that multiple newline conventions were encountered. For files not opened in universal newline read mode the value of this attribute will be None.\n",
    "### ```softspace```\n",
    "> Boolean that indicates whether a space character needs to be printed before another value when using the print statement. Classes that are trying to simulate a file object should also have a writable softspace attribute, which should be initialized to zero. This will be automatic for most classes implemented in Python (care may be needed for objects that override attribute access); types implemented in C will have to provide a writable softspace attribute. Note: This attribute is not used to control the print statement, but to allow the implementation of print to keep track of its internal state.\n"
   ]
  },
  {
   "cell_type": "markdown",
   "metadata": {},
   "source": [
    "# Shelock is great, but let's first work with our dummy example"
   ]
  },
  {
   "cell_type": "code",
   "execution_count": 127,
   "metadata": {
    "scrolled": true
   },
   "outputs": [
    {
     "name": "stdout",
     "output_type": "stream",
     "text": [
      "<_io.TextIOWrapper name='some_file.txt' mode='r+' encoding='UTF-8'>\n"
     ]
    }
   ],
   "source": [
    "f.close()\n",
    "f = open('some_file.txt', mode='r+',newline='\\n')\n",
    "print(f)"
   ]
  },
  {
   "cell_type": "markdown",
   "metadata": {},
   "source": [
    "Let's see what it looks like"
   ]
  },
  {
   "cell_type": "code",
   "execution_count": 128,
   "metadata": {},
   "outputs": [
    {
     "name": "stdout",
     "output_type": "stream",
     "text": [
      "START OF THE TXT\n",
      "first line\n",
      "second line\n",
      "third line\n",
      "END OF TXT\n",
      "\n",
      "\n"
     ]
    }
   ],
   "source": [
    "f_text = f.read()\n",
    "print(f_text)"
   ]
  },
  {
   "cell_type": "markdown",
   "metadata": {},
   "source": [
    "we can write new lines in our text"
   ]
  },
  {
   "cell_type": "code",
   "execution_count": 139,
   "metadata": {},
   "outputs": [
    {
     "name": "stdout",
     "output_type": "stream",
     "text": [
      "START OF THE TXT\n",
      "first line\n",
      "second line\n",
      "third line\n",
      "END OF TXT\n",
      "\n",
      "new line\n",
      "new line\n",
      "new line\n",
      "\n"
     ]
    }
   ],
   "source": [
    "# first close it\n",
    "f.close()\n",
    "\n",
    "# then read it's content\n",
    "f = open('some_file.txt', mode='r+',newline='\\n')\n",
    "print(f.read())"
   ]
  },
  {
   "cell_type": "markdown",
   "metadata": {},
   "source": [
    "To write something other than a string, it needs to be converted to a string first"
   ]
  },
  {
   "cell_type": "code",
   "execution_count": 140,
   "metadata": {},
   "outputs": [
    {
     "name": "stdout",
     "output_type": "stream",
     "text": [
      "START OF THE TXT\n",
      "first line\n",
      "second line\n",
      "third line\n",
      "END OF TXT\n",
      "\n",
      "new line\n",
      "new line\n",
      "new line\n",
      "('the answer', 42)\n"
     ]
    }
   ],
   "source": [
    "value = ('the answer', 42)\n",
    "s = str(value)\n",
    "f.write(s)\n",
    "\n",
    "# first close it\n",
    "f.close()\n",
    "\n",
    "# then read it's content\n",
    "f = open('some_file.txt', mode='r+',newline='\\n')\n",
    "print(f.read())"
   ]
  },
  {
   "cell_type": "markdown",
   "metadata": {},
   "source": [
    "### Now question arise, why we have to open and close it every time we want to read it? Or why if we read the file 2 times, the second time it print blank space?\n",
    "The reason is the special pointer that tracks the position on which you are on your file. It is an integer that stores the number of bites before your corrent position. We can access it with ```tell()```"
   ]
  },
  {
   "cell_type": "code",
   "execution_count": 144,
   "metadata": {},
   "outputs": [
    {
     "data": {
      "text/plain": [
       "108"
      ]
     },
     "execution_count": 144,
     "metadata": {},
     "output_type": "execute_result"
    }
   ],
   "source": [
    "f.tell()"
   ]
  },
  {
   "cell_type": "markdown",
   "metadata": {},
   "source": [
    "So the file isn't blank, we're just at the end of it (our pointer). So how to change the position of our pointer? ```seek()``` will help"
   ]
  },
  {
   "cell_type": "code",
   "execution_count": 151,
   "metadata": {},
   "outputs": [
    {
     "name": "stdout",
     "output_type": "stream",
     "text": [
      "pointer's position -  0 \n",
      "\n",
      "START OF THE TXT\n",
      "first line\n",
      "second line\n",
      "third line\n",
      "END OF TXT\n",
      "\n",
      "new line\n",
      "new line\n",
      "new line\n",
      "('the answer', 42) \n",
      "\n",
      "pointer's position -  108\n"
     ]
    }
   ],
   "source": [
    "print('pointer\\'s position - ', f.seek(0), '\\n')\n",
    "print(f.read(), '\\n')\n",
    "print('pointer\\'s position - ', f.tell())"
   ]
  },
  {
   "cell_type": "markdown",
   "metadata": {},
   "source": [
    "# HOME WORK\n",
    "do the first home work, but for entire Sherlock holmes"
   ]
  },
  {
   "cell_type": "code",
   "execution_count": null,
   "metadata": {},
   "outputs": [],
   "source": []
  }
 ],
 "metadata": {
  "kernelspec": {
   "display_name": "Python 3",
   "language": "python",
   "name": "python3"
  },
  "language_info": {
   "codemirror_mode": {
    "name": "ipython",
    "version": 3
   },
   "file_extension": ".py",
   "mimetype": "text/x-python",
   "name": "python",
   "nbconvert_exporter": "python",
   "pygments_lexer": "ipython3",
   "version": "3.6.5"
  }
 },
 "nbformat": 4,
 "nbformat_minor": 2
}
